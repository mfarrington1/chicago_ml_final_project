{
 "cells": [
  {
   "cell_type": "code",
   "execution_count": null,
   "metadata": {
    "vscode": {
     "languageId": "plaintext"
    }
   },
   "outputs": [],
   "source": [
    "import numpy as np\n",
    "import torch\n",
    "import torch.nn as nn\n",
    "import torch.nn.functional as F\n",
    "import torch.optim as optim\n",
    "import matplotlib.pyplot as plt\n",
    "\n",
    "# Utility to track progress of a routine.\n",
    "#from tqdm import tqdm\n",
    "from tqdm.notebook import trange, tqdm\n",
    "\n",
    "# Folder with course data\n",
    "datadir=predir\n",
    "device = torch.device(\"cuda:0\" if torch.cuda.is_available() else \"cpu\")"
   ]
  },
  {
   "cell_type": "code",
   "execution_count": null,
   "metadata": {
    "vscode": {
     "languageId": "plaintext"
    }
   },
   "outputs": [],
   "source": [
    "data_total = np.float32(np.load(predir+'mnist/letters_data.npy')/255)\n",
    "data = data_total[0:100000].reshape(-1, 1, 28, 28)\n",
    "data_digits_total = np.float32(np.load(predir+'mnist/MNIST_data.npy')/255)\n",
    "labels_digits_total = np.load(predir+'mnist/MNIST_labels.npy')\n",
    "\n",
    "data_digits = data_digits_total[0:1000].reshape(-1, 1, 28, 28)\n",
    "val_digits = data_digits_total[1000:2000].reshape(-1, 1, 28, 28)\n",
    "test_digits = data_digits_total[2000:12000].reshape(-1, 1, 28, 28)\n",
    "labels_digits = labels_digits_total[0:1000]\n",
    "labels_val_digits = labels_digits_total[1000:2000]\n",
    "labels_test_digits = labels_digits_total[2000:12000]"
   ]
  },
  {
   "cell_type": "code",
   "execution_count": null,
   "metadata": {
    "vscode": {
     "languageId": "plaintext"
    }
   },
   "outputs": [],
   "source": []
  }
 ],
 "metadata": {
  "language_info": {
   "name": "python"
  }
 },
 "nbformat": 4,
 "nbformat_minor": 2
}
